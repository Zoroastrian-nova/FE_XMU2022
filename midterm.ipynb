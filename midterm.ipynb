{
 "cells": [
  {
   "cell_type": "markdown",
   "metadata": {},
   "source": [
    "### 计算题"
   ]
  },
  {
   "cell_type": "markdown",
   "metadata": {},
   "source": [
    "#### 远期定价"
   ]
  },
  {
   "cell_type": "markdown",
   "metadata": {},
   "source": [
    "##### 利用远期定价公式套利\n",
    "1. 无红利资产：$ K = F = S*e^{r(T-t)} $\n",
    "    + 若$K>S e^{r(T-t)}$（资产被低估，套利方向是做多标的资产）:\n",
    "\n",
    "        \\begin{array}{c|c|c|c|c}\n",
    "        t & + 1*S \\rightarrow -S & -S * B \\rightarrow S & -1 * f \\rightarrow 0 & 0 \\\\\n",
    "        \\hline\n",
    "        T & - 1*S \\rightarrow 0 & +S * B \\rightarrow -S e^{r(T-t)} & +1 * f \\rightarrow K & K- S e^{r(T-t)} > 0\n",
    "        \\end{array}\n",
    "\n",
    "    + 若$K<S*e^{r(T-t)}$ （资产被高估，套利方向是做空标的资产）:\n",
    "\n",
    "        \\begin{array}{c|c|c|c|c}\n",
    "        t & - 1*S \\rightarrow S & +S * B \\rightarrow -S & +1 * f \\rightarrow 0 & 0 \\\\\n",
    "        \\hline\n",
    "        T & + 1*S \\rightarrow 0 & -S * B \\rightarrow S e^{r(T-t)} & -1 * f \\rightarrow -K &  S e^{r(T-t)}-K > 0\n",
    "        \\end{array}\n",
    "    + 第一列为时间点，第二至第四列为套利策略，第五列为总和现金流\n",
    "\n",
    "2. 已知红利数量的标的资产：$ K = F = (S-I)*e^{r(T-t)} $\n",
    "    + 若 $K > (S_{t} - I) e^{r(T-t)}$（资产被低估，套利方向是做多标的资产）\n",
    "\n",
    "        \\begin{array}{c|c|c|c|c}\n",
    "        t & + 1*S \\rightarrow -S & -S * B \\rightarrow S & -1 * f \\rightarrow 0 & 0 \\\\\n",
    "        \\hline\n",
    "        T & - 1*S \\rightarrow I * e^{r(T-t)} & -S * B \\rightarrow -S e^{r(T-t)} & 1 * f \\rightarrow K &  K-(S-I) e^{r(T-t)} > 0\n",
    "        \\end{array}\n",
    "\n",
    "    + 若 $K < (S_{t} - I) e^{r(T-t)}$（资产被高估，套利方向是做空标的资产）\n",
    "    \n",
    "        \\begin{array}{c|c|c|c|c}\n",
    "        t & - 1*S \\rightarrow S & +S * B \\rightarrow -S & +1 * f \\rightarrow 0 & 0 \\\\\n",
    "        \\hline\n",
    "        T & + 1*S \\rightarrow -I * e^{r(T-t)} & -S * B \\rightarrow S e^{r(T-t)} & 1 * f \\rightarrow -K &  (S-I) e^{r(T-t)}-K > 0\n",
    "        \\end{array}\n",
    "\n",
    "3. 已知红利率的标的资产：$ K = F = S*e^{(r-q)(T-t)} $\n",
    "    + 若$K >  (S_{t}) e^{(r-q)(T-t)}$（资产被低估，套利方向是做多标的资产）\n",
    "\n",
    "        \\begin{array}{c|c|c|c|c}\n",
    "        t & + e^{-q(T-t)}*S \\rightarrow -S * e^{-q(T-t)}  & -S * e^{-q(T-t)} * B \\rightarrow S * e^{-q(T-t)} & -1 * f \\rightarrow 0 & 0 \\\\\n",
    "        \\hline\n",
    "        T & - e^{-q(T-t)}*S \\rightarrow 0 & +S * e^{-q(T-t)} * B \\rightarrow -S * e^{(r-q)(T-t)} & +1 * f \\rightarrow K & K- S e^{(r-q)(T-t)} > 0\n",
    "        \\end{array}\n",
    "\n",
    "    + 若 $K < (S_{t}) e^{(r-q)(T-t)}$（资产被高估，套利方向是做空标的资产）\n",
    "\n",
    "        \\begin{array}{c|c|c|c|c}\n",
    "        t & - e^{-q(T-t)}*S \\rightarrow S & +S * e^{-q(T-t)} * B \\rightarrow -S * e^{-q(T-t)} & +1 * f \\rightarrow 0 & 0 \\\\\n",
    "        \\hline\n",
    "        T & + e^{-q(T-t)}*S \\rightarrow 0 & -S * e^{-q(T-t)} * B \\rightarrow S * e^{(r-q)(T-t)} & -1 * f \\rightarrow -K &  S * e^{(r-q)(T-t)}-K > 0\n",
    "        \\end{array}"
   ]
  },
  {
   "cell_type": "markdown",
   "metadata": {},
   "source": [
    "+ HW03_3:\n",
    "    + 假设F1和F2是基于同一种商品的两份期货合约的价格，到期日分别为t1和t2，且 t1<t2。\n",
    "    + 请说明F1和F2满足什么样的关系时会存在套利机会？假设商品无贮藏成本，远期和期货无差异。"
   ]
  },
  {
   "cell_type": "markdown",
   "metadata": {},
   "source": [
    "由远期定价公式可得：$$F_{t}^{1} = S_{t} e^{r(T_{1}-t)}$$\n",
    "$$F_{t}^{2} = S_{t} e^{r(T_{2}-t)}$$\n",
    "两式作商可得：$$F_{t}^{2} = F^{1}_{t}e^{r(T_{2}-T{1})}$$\n",
    "因此，当$F_{t}^{2} > F_{t}^{1} e^{r(T_{2}-T{1})}$时，可以卖空$F_{t}^{2}$买入$F_{t}^{1}$来套利；若$F_{t}^{2} < F_{t}^{1} e^{r(T_{2}-T{1})}$，则可以卖空$F_{t}^{1}$买入$F_{t}^{2}$来套利。"
   ]
  },
  {
   "cell_type": "markdown",
   "metadata": {},
   "source": [
    "+ 金融工具f：$T_{1}*T_{2}$的FRA,借款利率为r\n",
    "+ 若 $F^{2}_{t}>F^{1}_{t}e^{r(T_{2}-T_{1})}$（长期收益率被高估，套利方向是做空收益率）:\n",
    "\n",
    "    \\begin{array}{c|c|c|c|c}\n",
    "    t     & + 1*F^{1} \\rightarrow 0 & -F_{2} \\rightarrow 0 & -F^{1} * f \\rightarrow 0 & 0 \\\\\n",
    "    \\hline\n",
    "    T_{1} & - 1*F^{1} \\rightarrow -F^{1} & 0 \\rightarrow 0 &  f \\rightarrow F_{1} &  0\\\\\n",
    "    \\hline\n",
    "    T_{2} & 0 \\rightarrow 0 & +F_{2} \\rightarrow +F_{2} & f \\rightarrow -F_{1}*e^{r(T_{2}-T_{1})} & F_{2}-F_{1} *e^{r(T_{2}-T_{1})}>0\n",
    "    \\end{array}\n",
    "    \n",
    "+ 若 $F^{2}_{t}<F^{1}_{t}e^{r(T_{2}-T_{1})}$ （长期收益率被低估，套利方向是做多收益率）:\n",
    "\n",
    "    \\begin{array}{c|c|c|c|c}\n",
    "    t     & - 1*F^{1} \\rightarrow 0 & +F_{2} \\rightarrow 0 & +F^{1} * f \\rightarrow 0 & 0 \\\\\n",
    "    \\hline\n",
    "    T_{1} & + 1*F^{1} \\rightarrow +F^{1} & 0 \\rightarrow 0 &  f \\rightarrow -F_{1} &  0\\\\\n",
    "    \\hline\n",
    "    T_{2} & 0 \\rightarrow 0 & -F_{2} \\rightarrow -F_{2} & f \\rightarrow F_{1}*e^{r(T_{2}-T_{1})} & F_{1} *e^{r(T_{2}-T_{1})}-F_{2}>0\n",
    "    \\end{array}"
   ]
  },
  {
   "cell_type": "markdown",
   "metadata": {},
   "source": [
    "#### 远期价值的计算\n",
    "\n",
    "\\begin{aligned}\n",
    "\n",
    "f_{t}^{long} & = e^{-r(T-t)}*E_{Q}(S_{T}-K|\\mathbb{F}_{t}) \\\\\n",
    "\n",
    "    & = e^{-r(T-t)}* E_{Q}(S_{t}*e^{\\mu (T-t) + \\sigma(W_{T}-W_{t})}-K|\\mathbb{F}_{t}) \\\\\n",
    "\n",
    "    & = e^{-r(T-t)}* E_{Q}(S_{t}*e^{(r-\\frac{1}{2} \\sigma^{2})(T-t) + \\sigma(\\tilde{W}_{T}-\\tilde{W}_{t})}-K|\\mathbb{F}_{t}) \\\\\n",
    "    & = e^{-r(T-t)}*S_{t}*e^{(r-\\frac{1}{2} \\sigma^{2})(T-t)}* E_{Q}(e^{\\sigma(\\tilde{W}_{T}-\\tilde{W}_{t})}|\\mathbb{F}_{t})-K*e^{-r(T-t)} \\\\\n",
    "    & = e^{-r(T-t)}*S_{t}*e^{(r-\\frac{1}{2} \\sigma^{2})(T-t)}*e^{\\frac{1}{2}\\sigma^{2}(T-t)} - K*e^{-r(T-t)} \\\\\n",
    "    & = S_{t} - K*e^{-r(T-t)}\n",
    "\\end{aligned}\n",
    "+ 其中 $\\tilde{W_{t}} = \\frac{r-\\mu+\\frac{1}{2}\\sigma^{2}}{\\sigma}t + W_{t}$，$W_{t}$ 为P测度下的维纳过程，$\\tilde{W_{t}}$ 为Q测度下的鞅过程(也是维纳过程)\n",
    "+ $E_{Q}(e^{\\sigma(\\tilde{W}_{T}-\\tilde{W}_{t})}|\\mathbb{F}_{t}) = M_{X}(\\sigma Y) = e^{\\frac{1}{2}\\sigma^{2}(T-t)}$,其中 $Y = \\tilde{W}_{T}-\\tilde{W}_{t} \\sim N(0,(T-t)^{2})$ \n",
    "+ $f_{t}^{short} = -f_{t}^{long} = K*e^{-r(T-t)}-S_{t}$"
   ]
  },
  {
   "cell_type": "markdown",
   "metadata": {},
   "source": [
    "+ HW03_1:某股票预计在2个月和5个月后每股分别派发1元股息，该股票目前市价等于50元，所有期限的无风险连续复利年利率均为6%，甲和乙打赌，如果6个月后该股票价格比 50 元贵，乙付给甲 1 万股的上升差价；反之甲则付给乙1万股的下跌差价。请问： \n",
    "    + （1）  这个打赌谁合算？这个赌约价值多少？  \n",
    "    + （2）  合理的约定的价格应该是多少？ \n",
    "    + （3）  3个月后，该股票价格涨到55元，无风险利率仍为6%，这时谁赢谁亏，盈亏多少？"
   ]
  },
  {
   "cell_type": "code",
   "execution_count": 1,
   "metadata": {},
   "outputs": [],
   "source": [
    "from numpy import e\n",
    "def forward(S,r,t,I = 0.0):\n",
    "        return (S-I)*e**(r*t)"
   ]
  },
  {
   "cell_type": "markdown",
   "metadata": {},
   "source": [
    "1. 首先计算红利的现值：$$I = \\Sigma_{t \\in \\{\\frac{2}{12},\\frac{5}{12}\\}} pmt* e^{-r t} = 1.481$$\n",
    "    计算对甲（多头）而言的远期合约价值：$$ f_{t}^{long} = (S_{t}-I)-Ke^{-r(T-t)} = -0.48763642320290757 $$\n",
    "    由于合约价值为负，所以该合约对乙有利\n",
    "2. $$ F = (S-I)*e^{r(T-t)} = 49.497512836789696 $$\n",
    "3. $$ I_{3} = pmt*e^{-r(T-t)} = 0.9900498337491681 $$\n",
    "    $$ f_{3}^{long} = S_{3}-I_{3}-Ke^{-r(T-t)} = 4.754353186097703 $$\n",
    "    所以此时甲盈利，乙亏损，盈亏为 $10000*4.754353186097703 = 47543.53186097703$"
   ]
  },
  {
   "cell_type": "code",
   "execution_count": 4,
   "metadata": {},
   "outputs": [
    {
     "name": "stdout",
     "output_type": "stream",
     "text": [
      "合理的远期价格：49.497512836789696\n",
      "合约价值（多头）:4.754353186097703\n"
     ]
    }
   ],
   "source": [
    "import numpy as np\n",
    "r = 0.06\n",
    "I = np.array([1,1])@np.array([e**(-r*2/12),e**(-r*5/12)])\n",
    "S,K = 50,50\n",
    "f_long = S-I-K*e**(-r*0.5)\n",
    "F = forward(S,r,0.5,I=I)  # type: ignore\n",
    "print(f'合理的远期价格：{F}')\n",
    "I_3 = 1*e**(-r*2/12)\n",
    "S_3 = 55\n",
    "f_long_3 = S_3-I_3-K*e**(-r*3/12)\n",
    "print(f'合约价值（多头）:{f_long_3}')"
   ]
  },
  {
   "cell_type": "markdown",
   "metadata": {},
   "source": [
    "##### 不完美市场的价格区间\n",
    "1. 存在交易成本的时候，假定每一笔交易的费率为Y\n",
    "    + 远期价格不再是具体值，而是一个区间：$[S(1-Y)e^{r(T-t)},S(1+Y)e^{r(T-t)}]$\n",
    "    + 相当于在套利判定的不等式中加入了一个“楔子”\n",
    "\n",
    "2. 借贷存在利差的时候，如果用$r_{b}$表示借入利率，用$r_{l}$表示借出利率，对非银行的机构和个人，一般是$r_{b}>r_{l}$。\n",
    "    + 此时的价格区间为：$[Se^{r_{l}(T-t)},Se^{r_{b}(T-t)}]$\n",
    "    + 借入资金的价格上升，卖空投资的收益下降\n",
    "    \n",
    "3. 存在卖空限制的时候，假设由于卖空限制导致的成本比例为X。\n",
    "    + 此时的价格区间为：$[(1-X)Se^{r(T-t)},Se^{r(T-t)}]$\n",
    "    + 上限不变，不存在限制；卖空存在X的成本\n",
    "\n",
    "4. 假设以上情况同时存在：$[(1-X)S(1-Y)e^{r_{l}(T-t)},S(1+Y)e^{r_{b}(T-t)}]$"
   ]
  },
  {
   "cell_type": "markdown",
   "metadata": {},
   "source": [
    "+ HW03_4:假设S&P指数为800点，股息收益率是0。你是一个有着6%的连续复利借款利率和5%的连续复利贷款利率的套利者。远期合约的有效期为1年。 \n",
    "    + （1）  假设不存在交易费，证明如果远期价格小于 849.47，那么买现卖期套利无法盈利，以及如果远期价格大于841.02，反向买现卖期套利无法盈利。 \n",
    "    + （2）  现在假设无论做多还是做空远期合约均需在0时刻支付1美元的交易费。证明无套利界限的上限和下限现在分别成为850.53和839.97。 \n",
    "    + （3）  现在假设除了远期合约的交易费外，还存在一个2美元的买进或卖出指数的费用。假设该合约是通过指数交割来结算的，因此附加费用也是在0时刻支付。那么，新的无套利的界限是多少？ \n",
    "    + （4）  除了假设该合约是现金结算外，其他的假设与前一部分（3）相同。这意味着在0时刻和1时刻都需要为股票指数支付交易费（但不是远期合约的交易费）。那么，新的无套利的界限是多少?"
   ]
  },
  {
   "cell_type": "markdown",
   "metadata": {},
   "source": [
    "1. 假设不存在交易费，证明如果远期价格小于 849.47，那么买现卖期套利无法盈利，以及如果远期价格大于841.02，反向买现卖期套利无法盈利。 "
   ]
  },
  {
   "cell_type": "code",
   "execution_count": 2,
   "metadata": {},
   "outputs": [],
   "source": [
    "from numpy import e\n",
    "def future(S,r,t,I = 0.0):\n",
    "        return (S-I)*e**(r*t)"
   ]
  },
  {
   "cell_type": "markdown",
   "metadata": {},
   "source": [
    "1. 分别以5%、6%的利率计算远期价格：$$F_{min}=S e^{r_{1}(T-t)} = 841.0168771008193$$\n",
    "    $$F_{max}=S e^{r_{2}(T-t)} = 849.4692372362877$$\n",
    "    远期价格此时为区间$[841.0168771008193, 849.4692372362877]$，若价格属于这个区间，则既无法通过卖空套利，也无法通过买入套利"
   ]
  },
  {
   "cell_type": "code",
   "execution_count": 3,
   "metadata": {},
   "outputs": [
    {
     "name": "stdout",
     "output_type": "stream",
     "text": [
      "[841.0168771008193, 849.4692372362877]\n"
     ]
    }
   ],
   "source": [
    "F= [future(800,0.05,1),future(800,0.06,1)]\n",
    "print(F)"
   ]
  },
  {
   "cell_type": "markdown",
   "metadata": {},
   "source": [
    "2. 现在假设无论做多还是做空远期合约均需在0时刻支付1美元的交易费。证明无套利界限的上限和下限现在分别成为850.53和839.97。"
   ]
  },
  {
   "cell_type": "markdown",
   "metadata": {},
   "source": [
    "2. 1美元的交易费用相当于交易成本为1，所以按照 $$ F_{max} = (S+I) e^{r_{b}(T-t)} $$ $$ F_{min} = (S-I) e^{r_{l}(T-t)} $$ 计算远期价格\n",
    "\n",
    "    可得远期价格区间为$[842.0681481971953, 850.5310737828331]$"
   ]
  },
  {
   "cell_type": "code",
   "execution_count": 4,
   "metadata": {},
   "outputs": [
    {
     "data": {
      "text/plain": [
       "[839.9656060044433, 850.5310737828331]"
      ]
     },
     "execution_count": 4,
     "metadata": {},
     "output_type": "execute_result"
    }
   ],
   "source": [
    "F = [future(800,0.05,1,I=1),future(800,0.06,1,I=-1)]\n",
    "#价格楔子I应当是一正一负的\n",
    "F"
   ]
  },
  {
   "cell_type": "markdown",
   "metadata": {},
   "source": [
    "3. 现在假设除了远期合约的交易费外，还存在一个2美元的买进或卖出指数的费用。假设该合约是通过指数交割来结算的，因此附加费用也是在0时刻支付。那么，新的无套利的界限是多少？ "
   ]
  },
  {
   "cell_type": "markdown",
   "metadata": {},
   "source": [
    "3. $t=0$时需要交两种手续费，合约手续费和指数手续费，因此可以算得等价的现金红利：$$I = i^{合约}+i^{指数}= -1-2=-3$$\n",
    "    这时再使用已知现金红利的远期价格公式：$$F_{max} = (S+I) e^{r_{b}(T-t)}$$  $$ F_{min} = (S-I) e^{r_{l}(T-t)} $$\n",
    "    可得价格区间为：$[844.1706903899474, 852.6547468759238]$"
   ]
  },
  {
   "cell_type": "code",
   "execution_count": 5,
   "metadata": {},
   "outputs": [
    {
     "data": {
      "text/plain": [
       "[837.8630638116912, 852.6547468759238]"
      ]
     },
     "execution_count": 5,
     "metadata": {},
     "output_type": "execute_result"
    }
   ],
   "source": [
    "i = -1-2\n",
    "F = [future(800,0.05,1,I=-i),future(800,0.06,1,I=i)]\n",
    "F"
   ]
  },
  {
   "cell_type": "markdown",
   "metadata": {},
   "source": [
    "4. 除了假设该合约是现金结算外，其他的假设与前一部分（3）相同。这意味着在0时刻和1时刻都需要为股票指数支付交易费（但不是远期合约的交易费）。那么，新的无套利的界限是多少?"
   ]
  },
  {
   "cell_type": "markdown",
   "metadata": {},
   "source": [
    "4. 买卖指数的费用在$t=0$、$t=1$时刻交付，费用为2美元，所以再加上买卖合约的费用，可得：\n",
    "    $$I = i^{合约}+i^{指数}_{t=0}= -1-2= -3$$\n",
    "    $$ i^{指数}_{t=1} = -2 $$\n",
    "    因而可以用已知现金红利的远期来计算远期价格：$$F_{max} = (S+I) e^{r_{b}(T-t)} - i^{指数}_{t=1}$$ $$ F_{min} = (S-I) e^{r_{l}(T-t)}+ i^{指数}_{t=1} $$\n",
    "    可得价格区间为$[846.1706903899474, 854.6748472100921]$"
   ]
  },
  {
   "cell_type": "code",
   "execution_count": 6,
   "metadata": {},
   "outputs": [
    {
     "data": {
      "text/plain": [
       "[835.8630638116912, 854.6547468759238]"
      ]
     },
     "execution_count": 6,
     "metadata": {},
     "output_type": "execute_result"
    }
   ],
   "source": [
    "i = -1-2\n",
    "F = [future(800,0.05,1,I=-i)-2,future(800,0.06,1,I=i)+2]\n",
    "F"
   ]
  },
  {
   "cell_type": "markdown",
   "metadata": {},
   "source": [
    "#### 远期利率协议(FRA)\n",
    "设利率期限结构如下：\n",
    "\n",
    "![](./interest.png)"
   ]
  },
  {
   "cell_type": "markdown",
   "metadata": {},
   "source": [
    "为了使$T^{*}$时刻终值相等，可得：$$e^{[r(T-t)+r_{F}(T^{*}-T)]} = e^{r^{*}(T^{*}-t)}$$\n",
    "因此取对数之后可得：$$r(T-t)+r_{F}(T^{*}-T) = r^{*}(T^{*}-t)$$（对比：远期价格的期限结构）\n",
    "$$r_{F} = \\frac{[r^{*}(T^{*}-t) - r(T-t)]}{(T^{*}-T)}$$\n",
    "化简可得：$$r_{F} = (r^{*}-r)\\frac{T-t}{T^{*}-T} +r^{*} $$\n",
    "+ 如果即期利率期限结构在 $T^{*}-T$期间是向上倾斜的，即$r^{*}>r$，则 $r_{F}>r^{*}$（升水）； 反之，则$r_{F}<r^{*}$（贴水）。"
   ]
  },
  {
   "cell_type": "markdown",
   "metadata": {},
   "source": [
    "#### 国债期货"
   ]
  },
  {
   "cell_type": "markdown",
   "metadata": {},
   "source": [
    "##### 案例5.3（现货全价 & 期货全价）\n",
    "1. 现在是2019 年 2 月 18 日 ， 对于将于 2024 年 3 月 16 日到期 ， 息票利率为 3.2%、 一年支付一次利息的 2017 年记账式附息（六期） 国债(银行间市场代码为 170006.IB)报价为 101.174 8元\n",
    "    + 如何求出*现货全价*？\n",
    "2. 在中金所交易的将于 2019 年6 月到期的 5 年期国债期货合约 TF1906 收盘报价为99.415；该国债H0006.IB在TF1906合约中的转换因子为1.0086。假设20l9年6月14日(周五)为交割意向申报日\n",
    "    + 如何求出*期货全价*？"
   ]
  },
  {
   "cell_type": "markdown",
   "metadata": {},
   "source": [
    "1. 现货全价\n",
    "    1. 判断付息日：3.16到期 & 一年付息一次  →  3.16为付息日\n",
    "    2. $ 现货全价 = 现货净价（报价） + 应计利息 $\n",
    "        + $ 应计利息 = \\frac{利息}{付息频次} * \\frac{t-上一个付息日}{付息周期} = 3.2 * \\frac{365-(3.16-2.18)}{365} = 3.2 * \\frac{365-(16+28-18)}{365} = 3.2*\\frac{339}{365} = 2.972054794520548 $\n",
    "        + $ 现货全价 = 现货净价（报价） + 应计利息 = 101.1748 + 2.972054794520548 = 104.14685479452055 $\n",
    "        "
   ]
  },
  {
   "cell_type": "code",
   "execution_count": 3,
   "metadata": {},
   "outputs": [
    {
     "data": {
      "text/plain": [
       "104.14685479452055"
      ]
     },
     "execution_count": 3,
     "metadata": {},
     "output_type": "execute_result"
    }
   ],
   "source": [
    "from datetime import datetime\n",
    "true_date = (datetime(2019,2,18)-datetime(2018,3,16)).days\n",
    "date = (365-(16+28-18))\n",
    "acc_interest = 3.2*date/365\n",
    "full_price = 101.1748 + acc_interest\n",
    "full_price"
   ]
  },
  {
   "cell_type": "markdown",
   "metadata": {},
   "source": [
    "2. 期货全价\n",
    "    1. $ 期货全价 = 期货净价*转换因子 + 应计利息 $\n",
    "        + $ 期货应计利息 = \\frac{利息}{付息频次} * \\frac{T+2-上一个付息日}{付息周期} = 3.2*\\frac{6.14+4-3.16}{366} = 3.2*\\frac{94}{366} = 0.8218579234972678 $ \n",
    "        + $ 期货全价 = = 期货净价*转换因子 + 应计利息 = 99.415*1.0086 + 0.8218579234972678 =101.09182692349727 $"
   ]
  },
  {
   "cell_type": "code",
   "execution_count": 4,
   "metadata": {},
   "outputs": [
    {
     "name": "stdout",
     "output_type": "stream",
     "text": [
      "0.8218579234972678\n",
      "101.09182692349727\n"
     ]
    }
   ],
   "source": [
    "from datetime import datetime\n",
    "true_date = (datetime(2019,6,18)-datetime(2019,3,16)).days\n",
    "date = (18+31+30+31-16)\n",
    "acc_interest = 3.2*date/366\n",
    "#下一个付息日是2022.3.16，区间正好包括了2020.2.29，所以是366天\n",
    "full_price = 99.415*1.0086 + acc_interest\n",
    "print(acc_interest)\n",
    "print(full_price)"
   ]
  },
  {
   "cell_type": "markdown",
   "metadata": {},
   "source": [
    "##### 案例5.7（国债期货的定价）\n",
    "+ 2019年2月18日，假设某投资者认为对于2019年6月到期的中期国债期货TF1906而言，准CTD券为前述的国债170006.IB(转换因子1.0086，到期日3.16),并预期申请交割日为该合约的最后交易日（2019年6月14日，周五），合约剩余期限116天。\n",
    "+ 假设当天的26天和116天期无风险利率分别为2.4%和2.81%(连续复利）。\n",
    "+ 2019年2月18日当天国债170006.IB 的现券全价为 104.1469元\n",
    "+ 试求TF1906期货的理论报价。\n"
   ]
  },
  {
   "cell_type": "markdown",
   "metadata": {},
   "source": [
    "1. 现货全价 → 可交割券期货全价：\n",
    "\n",
    "    + 计算可交割券合约期限内的现金红利：\n",
    "    \n",
    "        + $ I = 3.2*e^{-2.4\\% * (date(3.16)-date(2.18))} = 3.194533988716278 $\n",
    "\n",
    "    + 此时的期限 $T-t$ 为合约期限，即116天\n",
    "\n",
    "    + $ 可交割券期货全价 = F = (S-I) * e^{-r(T-t)} = (104.1469-3.194533988716278)*e^{-2.81\\%*\\frac{116}{365}} = 101.8579041148923 $\n",
    "\n",
    "2. 可交割券期货全价 → 标准券期货全价(空方交割时收到的现金)：\n",
    "\n",
    "    + $ 标准券期货全价 = \\frac{可交割券期货全价}{转换因子} = \\frac{101.8579041148923}{1.0086} = 100.98939531518175 $\n",
    "    \n",
    "3. 标准券期货全价 → 标准券期货净价（期货标价）：\n",
    "    + $ 标准券期货应计利息 = 利息 * \\frac{T+2 - 上一个付息日}{付息周期} = 3.2\\%*100 * \\frac{T+2 - date(3.16)}{365} = 3.2\\%*100 * \\frac{date(6.18) - date(3.16)}{365} = 0.8241095890410959 $\n",
    "\n",
    "    + $ 标准券期货净价 = 标准券期货全价 - 标准券期货应计利息 = 100.98939531518175 - 0.8241095890410959 = 100.16528572614065 $"
   ]
  },
  {
   "cell_type": "code",
   "execution_count": 5,
   "metadata": {},
   "outputs": [
    {
     "name": "stdout",
     "output_type": "stream",
     "text": [
      "100.16528572614065\n"
     ]
    }
   ],
   "source": [
    "from math import e\n",
    "from datetime import datetime\n",
    "I = 3.2*e**(-0.024*26/365)\n",
    "F = (104.14685479452055-I) * e**(0.0281*116/365)\n",
    "standard_full  = F/1.0086\n",
    "standard_accured = 3.2*(datetime(2019,6,18)-datetime(2019,3,16)).days/365\n",
    "net_price =  standard_full - standard_accured\n",
    "print(net_price)"
   ]
  },
  {
   "cell_type": "markdown",
   "metadata": {},
   "source": [
    "##### HW05_3:\n",
    "+ 假设今天是 2015 年 7 月 30 日，在 2015 年 9 月到期的某国库券期货所对应的最便宜的可交割债券的息票率为 13%，预计交割时间为 2015 年 9 月 30 日。\n",
    "+ 债券券息的支付时间为每年的 2 月 4 日与 8 月 4 日。期限结构为水平，每半年复利一次的利率为每年 12%。这一债券的转换因子为 1.5，当前报价为 110 美元。\n",
    "+ 计算这一期货合约的报价"
   ]
  },
  {
   "cell_type": "markdown",
   "metadata": {},
   "source": [
    "1. 首先计算可交割券的现货应计利息：$应计利息 = 0.5*100*13\\%* \\frac{Jul 30 -Feb 4 }{Aug 4 - Feb 4} = 0.5*100*13\\%* \\frac{28+31+30+31+30+30-4}{28+31+30+31+30+31} = 6.217391304347826 $\n",
    "\n",
    "2. $ 可交割券现货全价= 可交割券现货净价(报价) + 现货应计利息 = 110+6.217391304347826 = 116.32044198895028 $\n",
    "\n",
    "3. 由远期定价公式 $F = (S-I) e^{r(T-t)}$可得，\n",
    "\n",
    "    $ 可交割券期货全价 =(可交割券现货全价-I)*e^{r(T-t)} \n",
    "    = (116.32044198895028-6.4896316234125635) * e^{0.11653781624795165 * \\frac{62}{365}} =112.02662416601017 $ ,\n",
    "\n",
    "    其中 $r = 2 *ln(1+\\frac{12\\%}{2}) = 0.11653781624795165$,\n",
    "\n",
    "    $ I = 0.5*100*0.13*e^{-r*\\frac{Aug 4 - Jul 30 }{365}} = 6.4896316234125635 $,\n",
    "    \n",
    "    $T-t = Sep 30-Jul 30 = 31+30+1 = 62$\n",
    "\n",
    "4. 因为 $期货报价*转换因子 = 可交割券期货净价 = 可交割券期货全价 - 期货应计利息$，\n",
    "\n",
    "    所以 $  期货报价  = \\frac{可交割券期货全价 - 期货应计利息}{转换因子} = \\frac{1}{1.5}*(112.02662416601017-2.0135869565217392) = 73.34202480632563 $,\n",
    "\n",
    "    其中 $ 期货应计利息 = 0.5* 100 * 13\\% * \\frac{Sep 30 -Aug 4 +2}{Feb 4 -Aug 4} = 0.5* 100 * 13\\% * \\frac{31+31-4+2}{31+30+31+30+31+31} = 2.0135869565217392 $\n",
    "\n",
    "所以，期货报价应为77.75494270208584"
   ]
  },
  {
   "cell_type": "code",
   "execution_count": 20,
   "metadata": {},
   "outputs": [
    {
     "name": "stdout",
     "output_type": "stream",
     "text": [
      "应计利息：6.320441988950276\n",
      "现货全价：116.32044198895028\n",
      "期货全价：112.02662416601017\n",
      "应计利息：2.0135869565217392\n",
      "期货合约净价73.34202480632563\n"
     ]
    }
   ],
   "source": [
    "from datetime import datetime\n",
    "from math import log,e\n",
    "accrued_interest = 0.5*100*0.13*((datetime(2015,7,30)-datetime(2015,2,4)).days)/(datetime(2015,8,4)-datetime(2015,2,4)).days\n",
    "print(f'应计利息：{accrued_interest}')\n",
    "\n",
    "present_full_price = accrued_interest+110\n",
    "print(f'现货全价：{present_full_price}')\n",
    "\n",
    "r = 2*log(1+0.12/2)\n",
    "I = 0.5*100*0.13*e**(-r*(datetime(2015,8,4)-datetime(2015,7,30)).days/365)\n",
    "F = (present_full_price-I)*e**(r*(62/365))\n",
    "print(f'期货全价：{F}')\n",
    "\n",
    "future_accrued_interest = 0.5*100*0.13*((datetime(2015,9,30)-datetime(2015,8,4)).days)/(datetime(2016,2,4)-datetime(2015,8,4)).days\n",
    "print(f'应计利息：{future_accrued_interest}')\n",
    "\n",
    "future_net_price = (F-future_accrued_interest)/1.5\n",
    "print(f'期货合约净价{future_net_price}')"
   ]
  },
  {
   "cell_type": "markdown",
   "metadata": {},
   "source": [
    "##### 用期货进行风险管理"
   ]
  },
  {
   "cell_type": "markdown",
   "metadata": {},
   "source": [
    "$$\\Delta \\Pi = n*\\Delta G + \\Delta H $$\n",
    ",静态套保前提下，n为常数\n",
    "$$ d(\\Delta \\Pi) = n*\\frac{\\partial \\Delta \\Pi}{\\partial \\Delta G} d(\\Delta G) + \\frac{\\partial \\Delta \\Pi}{\\partial \\Delta H} d(\\Delta H) $$\n",
    "要消去 $\\frac{\\partial \\Delta \\Pi}{\\partial \\Delta H} d(\\Delta H)$，则令 \n",
    "$$\\frac{\\partial \\Delta \\Pi}{\\partial \\Delta H} = \\frac{\\partial (n*\\Delta G + \\Delta H)}{\\partial \\Delta H} =0 $$\n",
    "所以有 $n = \\frac{\\partial \\Delta H}{\\partial \\Delta G}$"
   ]
  },
  {
   "cell_type": "markdown",
   "metadata": {},
   "source": [
    "1. 最优套保比率：$n = \\frac{\\partial \\Delta H}{\\partial \\Delta G} = \\frac{H_{0}* \\partial r_{H}}{G_{0}* \\partial r_{G}}$\n",
    "\n",
    "2. 最优套保数量：$N = n*\\frac{Q_{H}}{Q_{G}} = \\frac{\\partial (\\Delta H)*Q_{H}}{\\partial (\\Delta G)*Q_{G}}                   = \\frac{Q_{H}*H_{0}* \\partial r_{H}}{Q_{G}*G_{0}* \\partial r_{G}} = \\frac{V_{H}* \\partial r_{H}}{V_{G} \\partial r_{G}}$\n",
    "\n",
    "3. 最小方差套保组合：\n",
    "$n = \\frac{\\sigma_{HG}^{2}}{\\sigma_{G}^{2}}\\approx\\frac{\\Sigma y_{i}x_{i} - \\Sigma y_{i}*\\Sigma x_{i}}{num_{samples}-1}/\\frac{\\Sigma x_{i}^{2} - \\Sigma^{2} x_{i}}{num_{samples}-1}  =   \\frac{\\Sigma x_{i}y_{i} - num_{samples} \\bar{x}\\bar{y}}{\\Sigma x_{i}^{2} -num_{samples} \\bar{x}^{2}} = \\hat{\\beta}$\n",
    "\n",
    "    + 用收益率回归($r_{H} = b r_{G} + a + \\epsilon$)时：$n \\approx \\hat{\\beta} = \\frac{Cov(\\Delta H,\\Delta G)}{Var(\\Delta G)} = \\frac{Cov(\\Delta H_{0}r_{H},\\Delta G_{0}r_{G})}{Var(\\Delta G_{0}r_{G})} = \\hat{b}\\frac{H_{0}}{G_{0}} $\n",
    "\n",
    "4. 判断套保有效性：$e^{*} = \\frac{\\sigma_{H}^{2}-\\sigma_{\\Pi}^{2}}{\\sigma_{H}^{2}} = \\rho_{HG}^{2} = \\rho_{r_{H}r_{G}}^{2} $\n",
    "\n",
    "    + 此时的 $e^{*}$ 为线性回归中的判别系数 $R^{2}$"
   ]
  },
  {
   "cell_type": "markdown",
   "metadata": {},
   "source": [
    "1.  HW04_3: 假设某投资公司有 46,000,000元的股票组合，他想运用沪深300 股指期货合约来套期保值，假设目前指数为2300。股票组合收益率的月标准差为1.8，沪深300 股指期货收益率的月标准差为0.9，两者间的相关系数为0.6。\n",
    "\n",
    "    问:如何进行套期保值操作？"
   ]
  },
  {
   "cell_type": "markdown",
   "metadata": {},
   "source": [
    "投资公司作为股票现货的多头，应当卖空股指期货来进行套保\n",
    "\n",
    "接下来计算最小方差套保数量： $$N = \\frac{\\rho_{HG}*\\sigma_{H}*\\sigma_{G}}{\\sigma_{G}^{2}}\\frac{Q_{H}}{Q_{G}} = 80$$\n",
    "\n",
    "由于沪深300股指期货的乘数为300，所以要套保46000000元的股票组合，应当卖空80单位的股指期货来套保"
   ]
  },
  {
   "cell_type": "code",
   "execution_count": 1,
   "metadata": {},
   "outputs": [
    {
     "name": "stdout",
     "output_type": "stream",
     "text": [
      "最小方差套保数量： 80.0\n"
     ]
    }
   ],
   "source": [
    "sig_h,sig_g,corr = 1.8,0.9,0.6\n",
    "h0,g0 = 46000000,2300*300\n",
    "#假设沪深300股指期货乘数为300\n",
    "n = (corr*sig_h*sig_g)/(sig_g**2)*(h0/g0)\n",
    "print('最小方差套保数量：',n)"
   ]
  },
  {
   "cell_type": "markdown",
   "metadata": {},
   "source": [
    "2.  HW04_4: 某航空公司预计在一个月后需要购买 230 万加仑的飞机燃料油并决定用取暖油（heating oil）期货来进行对冲，一份期货合约规模为 42000 加仑。\n",
    "    假设飞机燃料每加仑油价变化为∆𝑯，用于对冲的取暖油期货价格变化为∆𝑮。为了估计最小方差套期保值比率，获取16个样本数据，将第i个∆𝑯和∆𝑮的观察值分别记为𝒚𝒊和𝒙𝒊，样本数据如下， 请问最优套期保值数量是多少？ \n",
    "\n",
    "    $ ∑𝒚_{i} =𝟎.𝟎𝟎𝟑 ,  ∑𝒚_{i}^{𝟐} =𝟎.𝟎𝟎𝟗𝟕 ,   ∑𝒙_{i} =𝟎.𝟎𝟏𝟐 ,  ∑𝒙_{i}^{𝟐} =𝟎.𝟎𝟏𝟑𝟖 , ∑𝒙_{i}𝒚_{i} =𝟎.𝟎𝟏𝟎𝟕 $"
   ]
  },
  {
   "cell_type": "markdown",
   "metadata": {},
   "source": [
    "对 $\\Delta H$进行OLS线性回归可得: $\\Delta H = b \\Delta G + a + \\epsilon$\n",
    "\n",
    "此时可以用$\\hat{b}$来估计最小方差套保比率n， $\\hat{b} = \\frac{\\Sigma xy-N \\bar{x}\\bar{y}}{\\Sigma x^{2}-N \\bar{x}^{2}} =\\frac{0.0107 - 0.003*0.012/16}{0.0138 - (0.012)^{2}/16} = 0.7757051700384309$ \n",
    "\n",
    "因此可得最优套保数量为$N = \\hat{b}\\frac{Q_{H}}{Q_{G}} = 0.7757051700384309*\\frac{2.3*10^{6}}{42000} = 42.47909264496169 \\approx 43$"
   ]
  },
  {
   "cell_type": "code",
   "execution_count": 9,
   "metadata": {},
   "outputs": [
    {
     "name": "stdout",
     "output_type": "stream",
     "text": [
      "最小方差套保比率： 0.7757051700384309\n",
      "最优套保数量: 43\n"
     ]
    }
   ],
   "source": [
    "from math import ceil\n",
    "b_hat = (0.0107-0.003*0.012/16)/(0.0138-(0.012**2)/16)\n",
    "N = b_hat*2300000/42000\n",
    "print('最小方差套保比率：',b_hat)\n",
    "print('最优套保数量:',ceil(N))"
   ]
  },
  {
   "cell_type": "markdown",
   "metadata": {},
   "source": [
    "3.  HW04_5: 一家公司希望通过汽油期货对冲一种新燃料的价格变化风险，已知新燃料价格变化与汽油期货变化的相关系数是0.6。在未来3个月里，当新燃料每加仑价格上涨1美分，该公司会损失100万美元；新燃料价格变化的标准差比汽油期货价格的标准差高50%。\n",
    "\n",
    "    如果用汽油期货来对冲，对冲比率是多少？\n",
    "\n",
    "    如果将公司的风险敞口以新燃料加仑数量计算，风险敞口是多少？\n",
    "\n",
    "    该公司应该持有什么样的汽油期货头寸（以加仑为单位）？\n",
    "\n",
    "    需要交易多少份汽油期货合约？(每份合约的标的是42000加仑汽油)"
   ]
  },
  {
   "cell_type": "markdown",
   "metadata": {},
   "source": [
    "1. 设期货价格标准差 $\\sigma_{G} = 1$，则有 $\\sigma_{H} = 1.5,Cov(H,G) = \\rho_{HG}*\\sigma_{H}*\\sigma_{G} = 1.5*1*0.6 = 0.9 $,因此可得最小方差套保比率 $n= \\frac{Cov(H,G)}{\\sigma_{G}^{2}} = 0.9 $\n",
    "\n",
    "2. 由于 $\\Delta V_{H} = {\\Delta H}*{Q_{H}} = {0.01}*{Q_{H}} = 1000000$,所以可得 风险敞口$Q_{H} = 100000000$加仑\n",
    "\n",
    "3. 计算最小方差套保数量： $N = n\\frac{Q_{H}}{Q_{G}} = 0.9*1000000 = 90000000 $ (此时 $Q_{G} = 1$)，所以应当购买90000000加仑的汽油期货\n",
    "\n",
    "4. 当 ${Q_{G}} = 42000$ 时，$N = n\\frac{Q_{H}}{Q_{G}} = 0.9*1000000/42000 = 2142.8571428571427 \\approx 2143 $,所以应当购买2143份期货合约"
   ]
  },
  {
   "cell_type": "code",
   "execution_count": 13,
   "metadata": {},
   "outputs": [
    {
     "name": "stdout",
     "output_type": "stream",
     "text": [
      "最小方差套保比率：0.8999999999999999\n",
      "最小方差套保数量（期货头寸）：90000000\n",
      "最小方差套保数量（期货合约）：2143\n"
     ]
    }
   ],
   "source": [
    "from math import ceil\n",
    "corr = 0.6\n",
    "sig_h,sig_g = 1.5,1\n",
    "n = (corr*sig_h*sig_g)/(sig_g**2)\n",
    "print(f'最小方差套保比率：{n}')\n",
    "q_h = 100000000\n",
    "N = ceil(n*q_h)\n",
    "print(f'最小方差套保数量（期货头寸）：{N}')\n",
    "q_g = 42000\n",
    "N_1 = ceil(n*q_h/q_g)\n",
    "print(f'最小方差套保数量（期货合约）：{N_1}')"
   ]
  },
  {
   "cell_type": "markdown",
   "metadata": {},
   "source": [
    "### 选择 & 判断"
   ]
  },
  {
   "cell_type": "markdown",
   "metadata": {},
   "source": [
    "1. HW01_4: 很多金融文献都采用ln Pt 来表示收益率或增长率（其中Pt 为 t 时刻的变量值），请问这是为什么？但对于日收益率或日增长率，人们常常认为 $ln P_{t}$和$\\frac{\\Delta P_{t}}{P_{t}}$差不多，你同意吗？"
   ]
  },
  {
   "cell_type": "markdown",
   "metadata": {},
   "source": [
    "1. 百分比收益率：$ \\frac{P_{t+1}-P_{t}}{P_{t}} \\in (-1,+\\infty) $\n",
    "    对数收益率：$ln(P_{t+1})-ln(P_{t}) \\in (-\\infty,+\\infty) $\n",
    "    + 统计回归通常需要数据服从对称分布 对数收益率满足对称分布的特征，且具有时间序列平稳的性质\n",
    "\n",
    "2. 对于不同的基数，百分比收益率的绝对值不同，而 $|ln(P_{t+1})-ln(P_{t})|=|ln(P_{t})-ln(P_{t+1})|$,\n",
    "\n",
    "3. 对数收益率具有一些优良的数学性质，如求导直接获得弹性，宏观上计算增长率比较方便"
   ]
  },
  {
   "cell_type": "markdown",
   "metadata": {},
   "source": [
    "2. HW02_1: 某投资者期货账户可用保证金 2000 万元， 某日以 4634 点价格开仓买进IF1803 合约 60 手， 同一天， 该客户以 4700 点卖出平仓 20 手 IF1803， 当日结算价 4663 点。 假设交易保证金率为 15%， 则以下说法正确的是（ ）。（IF表示沪深 300 期货， 乘数为 300）\n",
    "+ A. 当日平仓获利 39.6 万元\n",
    "+ B. 当日保证金占用 839.34 万元\n",
    "+ C. 当日账户权益 2039.6 万元\n",
    "+ D. 可用资金余额为 1200.26 万元"
   ]
  },
  {
   "cell_type": "code",
   "execution_count": 2,
   "metadata": {},
   "outputs": [
    {
     "name": "stdout",
     "output_type": "stream",
     "text": [
      "平仓获利 396000\n",
      "保证金占用 8393400.0\n",
      "账户权益 20744000.0\n",
      "可用资金余额 12350600.0\n"
     ]
    }
   ],
   "source": [
    "import numpy as np\n",
    "ini_margin,multip,margin_rate = 2e7,300,0.15\n",
    "trade = np.array([60,40])\n",
    "price = np.array([4634,4663])\n",
    "position = trade*price*multip\n",
    "main_margin = position * margin_rate\n",
    "#计算维持保证金\n",
    "\n",
    "offset = np.array([-20,20])\n",
    "offset_price = np.array([4634,4700])\n",
    "close = multip*np.dot(offset,offset_price)\n",
    "#计算平仓收益\n",
    "\n",
    "payoff = np.array([-40,40])@price*multip\n",
    "account_surp = ini_margin+ close + payoff\n",
    "available = account_surp - main_margin[-1]\n",
    "#计算账户权益与可用资金\n",
    "\n",
    "print(f'平仓获利 {close}')\n",
    "print(f'保证金占用 {main_margin[-1]}')\n",
    "print(f'账户权益 {account_surp}')\n",
    "print(f'可用资金余额 {available}')"
   ]
  },
  {
   "cell_type": "markdown",
   "metadata": {},
   "source": [
    "选项： A B "
   ]
  },
  {
   "cell_type": "markdown",
   "metadata": {},
   "source": [
    "3. HW02_2: 假设市场中原有 100 手未平仓合约， 紧接着市场交易出现如下变化： 在交易时， 交易者甲买进开仓 20 手股指期货 9 月合约的同时， 交易者乙买进开仓 50手股指期货 9 月份合约， 交易者丙卖出平仓 60 手股指期货 9 月份合约， 交易者丁卖出 10 手股指期货 9 月份合约， 甲乙丙丁三人恰好相互成交。 此刻该期货合约（ ）。\n",
    "+ A. 未平仓合约数为 170 手\n",
    "+ B. 未平仓合约数增加 10 手\n",
    "+ C. 成交量增加 140 手\n",
    "+ D. 成交量增加 70 手"
   ]
  },
  {
   "cell_type": "code",
   "execution_count": 1,
   "metadata": {},
   "outputs": [
    {
     "name": "stdout",
     "output_type": "stream",
     "text": [
      "未平仓合约数 110.0\n",
      "成交量 70.0\n"
     ]
    }
   ],
   "source": [
    "import numpy as np\n",
    "trade = np.array([20,50,-60,10])*0.5\n",
    "open_interest = sum(trade)+100\n",
    "print(f'未平仓合约数 {open_interest}')\n",
    "print(f'成交量 {sum(abs(trade))}')"
   ]
  },
  {
   "cell_type": "markdown",
   "metadata": {},
   "source": [
    "选项：B D"
   ]
  },
  {
   "cell_type": "markdown",
   "metadata": {},
   "source": [
    "4. HW02_3: 股指期货可以用来降低股票组合的非系统性风险。\n",
    "\n",
    "    + ×，将股指期货加入资产组合，所降低的是股票组合的系统性风险β\n",
    "\n",
    "5. 一份期货合约在交易所交易时， 会使得未平仓合约总数增加一份。\n",
    "\n",
    "    + ×，若该期货合约是用于平仓的合约，那么未平仓合约数将减少一份\n",
    "\n",
    "6. 股指期货交割是促使股指期货价格和股指现货价格趋向一致的制度保证， 使股指期货市场真正发挥价格晴雨表的作用。\n",
    "\n",
    "    + √，交割期的期货与现货是完全等同的，因此二者的价格一定相等，这样就确保了期货价格在交割期收敛于现货价格\n",
    "\n",
    "7. 股指期货投资者通过套期保值，将全部市场价格风险转移给股指期货套利者。\n",
    "\n",
    "    + ×，套利者并不承担市场风险，承担市场风险的是投机者"
   ]
  },
  {
   "cell_type": "markdown",
   "metadata": {},
   "source": [
    "8. HW03_2: 假设黄金现货价格为 2000 美元，市场普遍认为 1 年后黄金现货价格会涨到 3000 美元，所以 1 年期黄金期货目前的价格应为 3000 美元左右。 \n",
    "\n",
    "    + ×，如果目前的期货价格为3000美元，而现货价格为2000美元，那么就有机会通过卖空期货买入现货来进行套利\n",
    "\n",
    "9. 远期（期货）价格是对未来现货价格的无偏估计。 \n",
    "\n",
    "    + ×，远期价格是对现在的现货价格的无偏估计（无套利的完美市场情况下）\n",
    "\n",
    "10. 在远期（期货）到期日，远期（期货）价格将收敛于标的资产现货价格。\n",
    "\n",
    "    + √，在到期日，期货将进行交割，此时现货与期货是完全等同的，所以二者价格应当一致，否则就可以在到期日通过买入（卖空）现货，卖空（买入）期货套利"
   ]
  },
  {
   "cell_type": "markdown",
   "metadata": {},
   "source": [
    "11. HW04_2: 多头套期保值的盈利可能来源于基差增大。 \n",
    "\n",
    "    + ×。多头套期保值的盈利来自基差减小，即 $\\Delta H - \\Delta G <0$ 。若基差上升 $\\Delta H - \\Delta G >0$ ，那么卖空现货买入期货的套保会造成亏损\n",
    "\n",
    "12. 完美的套期保值的结果一定比不完美套期保值好。 \n",
    "\n",
    "    + ×。不完美套期保值导致套保比率不为1，但是也有可能导致套期保值比率小于1，使得较少的期货可以套保较多的现货。\n",
    "\n",
    "13. 如果最小方差套期保值比率为1.0，则这个套期保值一定是完美的。\n",
    "\n",
    "    + ×。因为 $n = \\frac{\\sigma_{HG}^{2}}{\\sigma_{G}^{2}}=1$ 时，只需要1单位期货即可对冲1单位现货，但资产组合的方差仍然可能不为零，存在基差风险，因此不是完美套保。\n",
    "\n",
    "14. 如果不存在基差风险，最小方差套期保值比率总为1。 \n",
    "\n",
    "    + √。因为 $n = \\frac{\\partial \\Delta H}{\\partial \\Delta G} $，当基差风险不存在时，$\\frac{\\partial \\Delta H}{\\partial \\Delta G}= 1 = n$，所以此时套保比率为1\n",
    "\n",
    "15. 航空公司用取暖油期货来对冲燃油价格的上涨，可能会面临基差风险。\n",
    "\n",
    "    + √。航空公司作为现货的空头，采用做多期货的方式进行套保会面临基差风险，当基差增大时，会导致期货方面亏损"
   ]
  },
  {
   "cell_type": "markdown",
   "metadata": {},
   "source": [
    "16. 久期的误解\n",
    "    + ×：麦考利久期就是不含权债券的久期 \n",
    "        + √：修正久期才是不含权债券的久期\n",
    "    + ×：久期一定是期限的加权 \n",
    "        + √：久期与期限加权之间并没有必然联系\n",
    "    + ×：久期的单位一定是年 \n",
    "        + √：久期的单位并不必然为年"
   ]
  }
 ],
 "metadata": {
  "kernelspec": {
   "display_name": "Python 3.9.12 ('base')",
   "language": "python",
   "name": "python3"
  },
  "language_info": {
   "codemirror_mode": {
    "name": "ipython",
    "version": 3
   },
   "file_extension": ".py",
   "mimetype": "text/x-python",
   "name": "python",
   "nbconvert_exporter": "python",
   "pygments_lexer": "ipython3",
   "version": "3.9.12"
  },
  "orig_nbformat": 4,
  "vscode": {
   "interpreter": {
    "hash": "230b3ff13fbf17182562d98b6b92d0993293f138d9d821fa36058128ba3119c0"
   }
  }
 },
 "nbformat": 4,
 "nbformat_minor": 2
}
