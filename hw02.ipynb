{
 "cells": [
  {
   "cell_type": "markdown",
   "metadata": {},
   "source": [
    "#### 不定项选择"
   ]
  },
  {
   "cell_type": "markdown",
   "metadata": {},
   "source": [
    "1. 某投资者期货账户可用保证金 2000 万元， 某日以 4634 点价格开仓买进IF1803 合约 60 手， 同一天， 该客户以 4700 点卖出平仓 20 手 IF1803， 当日结算价 4663 点。 假设交易保证金率为 15%， 则以下说法正确的是（ ）。（IF表示沪深 300 期货， 乘数为 300）\n",
    "+ A. 当日平仓获利 39.6 万元\n",
    "+ B. 当日保证金占用 839.34 万元\n",
    "+ C. 当日账户权益 2039.6 万元\n",
    "+ D. 可用资金余额为 1200.26 万元"
   ]
  },
  {
   "cell_type": "code",
   "execution_count": 4,
   "metadata": {},
   "outputs": [
    {
     "name": "stdout",
     "output_type": "stream",
     "text": [
      "平仓获利 396000\n",
      "保证金占用 8393400.0\n",
      "账户权益 20744000.0\n",
      "可用资金余额 12350600.0\n"
     ]
    }
   ],
   "source": [
    "import numpy as np\n",
    "ini_margin,multip,margin_rate = 2e7,300,0.15\n",
    "trade = np.array([60,40])\n",
    "price = np.array([4634,4663])\n",
    "position = trade*price*multip\n",
    "main_margin = position * margin_rate\n",
    "\n",
    "\n",
    "offset = np.array([-20,20])\n",
    "offset_price = np.array([4634,4700])\n",
    "close = multip*np.dot(offset,offset_price)\n",
    "\n",
    "payoff = np.array([-40,40])@price*multip\n",
    "account_surp = ini_margin+ close + payoff\n",
    "available = account_surp - main_margin[-1]\n",
    "\n",
    "print(f'平仓获利 {close}')\n",
    "print(f'保证金占用 {main_margin[-1]}')\n",
    "print(f'账户权益 {account_surp}')\n",
    "print(f'可用资金余额 {available}')"
   ]
  },
  {
   "cell_type": "markdown",
   "metadata": {},
   "source": [
    "选项： A B "
   ]
  },
  {
   "cell_type": "markdown",
   "metadata": {},
   "source": [
    "2. 假设市场中原有 100 手未平仓合约， 紧接着市场交易出现如下变化： 在交易时， 交易者甲买进开仓 20 手股指期货 9 月合约的同时， 交易者乙买进开仓 50手股指期货 9 月份合约， 交易者丙卖出平仓 60 手股指期货 9 月份合约， 交易者丁卖出 10 手股指期货 9 月份合约， 甲乙丙丁三人恰好相互成交。 此刻该期货合约（ ）。\n",
    "+ A. 未平仓合约数为 170 手\n",
    "+ B. 未平仓合约数增加 10 手\n",
    "+ C. 成交量增加 140 手\n",
    "+ D. 成交量增加 70 手"
   ]
  },
  {
   "cell_type": "code",
   "execution_count": 31,
   "metadata": {},
   "outputs": [
    {
     "name": "stdout",
     "output_type": "stream",
     "text": [
      "未平仓合约数170\n",
      "成交量70\n"
     ]
    }
   ],
   "source": [
    "long_position = np.array([20,50])\n",
    "open_interest = sum(long_position)+100\n",
    "print(f'未平仓合约数 {open_interest}')\n",
    "print(f'成交量 {sum(long_position)}')"
   ]
  },
  {
   "cell_type": "markdown",
   "metadata": {},
   "source": [
    "选项：A D"
   ]
  },
  {
   "cell_type": "markdown",
   "metadata": {},
   "source": [
    "#### 判断题"
   ]
  },
  {
   "cell_type": "markdown",
   "metadata": {},
   "source": [
    "1. 股指期货可以用来降低股票组合的非系统性风险。\n",
    "    + ×，对于股指期货来说，股票组合是标的资产，股指期货可以使标的资产的投资者对冲风险，但不能改变标的资产的风险。\n",
    "\n",
    "2. 一份期货合约在交易所交易时， 会使得未平仓合约总数增加一份。\n",
    "    + ×，若该期货合约是用于平仓的合约，那么未平仓合约数将减少一份\n",
    "\n",
    "3. 股指期货交割是促使股指期货价格和股指现货价格趋向一致的制度保证， 使股指期货市场真正发挥价格晴雨表的作用。\n",
    "    + √，交割期的期货与现货是完全等同的，因此二者的价格一定相等，这样就确保了期货价格在交割期收敛于现货价格\n",
    "\n",
    "4. 股指期货投资者通过套期保值， 将全部市场价格风险转移给股指期货套利者。\n",
    "    + √，期货合约可以为投资者确定一个未来的指数，从而将价格变动风险完全转嫁\n",
    "    "
   ]
  }
 ],
 "metadata": {
  "kernelspec": {
   "display_name": "Python 3.9.12 ('base')",
   "language": "python",
   "name": "python3"
  },
  "language_info": {
   "codemirror_mode": {
    "name": "ipython",
    "version": 3
   },
   "file_extension": ".py",
   "mimetype": "text/x-python",
   "name": "python",
   "nbconvert_exporter": "python",
   "pygments_lexer": "ipython3",
   "version": "3.9.12"
  },
  "orig_nbformat": 4,
  "vscode": {
   "interpreter": {
    "hash": "230b3ff13fbf17182562d98b6b92d0993293f138d9d821fa36058128ba3119c0"
   }
  }
 },
 "nbformat": 4,
 "nbformat_minor": 2
}
