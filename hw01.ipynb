{
 "cells": [
  {
   "cell_type": "markdown",
   "metadata": {},
   "source": [
    "1. 每年计一次复利的年利率为 12%，请计算与之等价的每季度计一次复利的年利率和连续复利年利率， 并计算 10000 元现值在 1 年之后的终值。"
   ]
  },
  {
   "cell_type": "markdown",
   "metadata": {},
   "source": [
    "设每年计息一次的年利率为$r_{1}$，每季度计息一次的年利率为$r_{4}$，连续复利年利率为$r$，终值为$FV$，现值为$PV$\n",
    "\n",
    "$r_{4} = (1+\\frac{r_{1}}{4})^{4} -1= 0.12550881 = 12.550881\\% $\n",
    "\n",
    "$r = e^{r_{1}} - 1 = 0.12749685157937574 = 12.749685157937574\\%$\n",
    "\n",
    "$FV = PV(1+r_{1})^{n} = 10000*(1+0.12)^{1} = 11200$"
   ]
  },
  {
   "cell_type": "code",
   "execution_count": 2,
   "metadata": {},
   "outputs": [
    {
     "name": "stdout",
     "output_type": "stream",
     "text": [
      "11200.000000000002\n"
     ]
    }
   ],
   "source": [
    "from math import e\n",
    "r1,m,n = 0.12,4,1\n",
    "r4 = (1+r1/m)**m -1\n",
    "r = e**(r1) - 1\n",
    "fv = 10000*(1+r1)**n\n",
    "print(fv)"
   ]
  },
  {
   "cell_type": "markdown",
   "metadata": {},
   "source": [
    "2. 某笔存款的连续复利年利率为 12%，但实际上利息是每月支付一次。请问 3万元存款每月能得到多少利息?"
   ]
  },
  {
   "cell_type": "markdown",
   "metadata": {},
   "source": [
    "设连续复利利率为r，每月计息利率为$r_{12}$，终值为$FV$，现值为$PV$，每月支付的利息为$pmt_{i}$，假设存款本息之和逐月摊销支付，存款期限为一年。\n",
    "\n",
    "首先求出本息和的终值：$FV = PV*e^{r} = 33824.9055$\n",
    "\n",
    "此时再算出一年计息12次时的利息：$r_{12} = m (e^{\\frac{r}{m}}) - 1 = 12(e^{\\frac{0.12}{12}}) - 1 = 0.12749685 = 12.749685\\%$\n",
    "\n",
    "最后，按照$r_{12}$将$FV$摊销到12个月,即在下式解出$pmt_{i}$： $\\Sigma_{t=1}^{n} pmt_{i}(1+r_{n})^{t} = FV$,\n",
    "\n",
    "可得，$pmt_{i} = \\frac{FV}{\\Sigma_{t=1}^{n} (1+r_{12})^{t}} = \\frac{33824.9055}{\\Sigma_{t=1}^{12} (1.12749)^{t}}$\n",
    "\n",
    "解得$pmt_{i} = 1339.01777$"
   ]
  },
  {
   "cell_type": "code",
   "execution_count": 4,
   "metadata": {},
   "outputs": [
    {
     "name": "stdout",
     "output_type": "stream",
     "text": [
      "1339.0177797922368\n"
     ]
    }
   ],
   "source": [
    "from math import e\n",
    "import numpy as np\n",
    "r,pv,m = 0.12,30000,12\n",
    "fv = pv*e**r\n",
    "r_12 = m*(e**r/m)-1\n",
    "interest_payment = fv/(sum(np.array(pow(r_12+1,np.array(range(12))))))\n",
    "print(interest_payment)"
   ]
  },
  {
   "cell_type": "markdown",
   "metadata": {},
   "source": [
    "3. 回忆课件 FE01 里面案例 1.1B：如果将存款利息改为在未来的 1 年内将获得4%的最低收益保证加上 40%的 S&P500 指数变动幅度，请写出收益的数学表达式以及作图。"
   ]
  },
  {
   "cell_type": "markdown",
   "metadata": {},
   "source": [
    "设S&P500 指数变动幅度为R，总收益为P\n",
    "\n",
    "可得总收益$P = max(40\\%R, 4\\%)$\n",
    "\n",
    "即:\n",
    "P =\n",
    "\\begin{cases} \n",
    "4\\%,  & \\text{if }\\text{ $R \\leq 0.1$} \\\\\n",
    "40\\%R , & \\text{if }\\text{ R > 0.1}\n",
    "\\end{cases}\n",
    "\n",
    "作图过程如下："
   ]
  },
  {
   "cell_type": "code",
   "execution_count": 1,
   "metadata": {},
   "outputs": [
    {
     "data": {
      "text/plain": [
       "<function matplotlib.pyplot.show(close=None, block=None)>"
      ]
     },
     "execution_count": 1,
     "metadata": {},
     "output_type": "execute_result"
    },
    {
     "data": {
      "image/png": "[encoded data removed]",
      "text/plain": [
       "<Figure size 432x288 with 1 Axes>"
      ]
     },
     "metadata": {
      "needs_background": "light"
     },
     "output_type": "display_data"
    }
   ],
   "source": [
    "import matplotlib.pyplot as plt\n",
    "import numpy as np\n",
    "R = np.arange(-1,1,0.01)\n",
    "P = np.where(0.4*R<0.04,0.04,0.4*R)\n",
    "plt.plot(R,P)\n",
    "plt.show"
   ]
  },
  {
   "cell_type": "markdown",
   "metadata": {},
   "source": [
    "4. 很多金融文献都采用ln Pt 来表示收益率或增长率（其中Pt 为 t 时刻的变量值），请问这是为什么？但对于日收益率或日增长率，人们常常认为 $ln P_{t}$和$\\frac{\\Delta P_{t}}{P_{t}}$差不多，你同意吗？"
   ]
  },
  {
   "cell_type": "markdown",
   "metadata": {},
   "source": [
    "1. 因为价格$P>0$，所以P的分布往往是右偏的，用ln对P做处理可以使得收益率的分布更趋近于高斯分布\n",
    "2. P在[0,T]时间段的增长率可以用$\\Sigma_{t=0}^{T} ln \\frac{P_{t+1}}{P_{t}}$表示，可见对数增长率是可以累加的，计算比较方便\n",
    "3. 考虑外汇交易情景，a货币对b货币的贬值率$ln \\frac{P_{a}}{P_{b}}$与b货币对a货币的贬值率$ln \\frac{P_{b}}{P_{a}}$正好互为相反数，相比于百分比增长率，可以更好展示二者的相对升贬值关系\n",
    "\n",
    "同意，因为对于日增长率这种分布比较集中的数据而言，$P_{t}$与$P_{t+1}$的差额并不大，所以对数处理和百分比处理都不会造成数据出现显著的稀疏化，因此可以二者视为基本等同。"
   ]
  }
 ],
 "metadata": {
  "kernelspec": {
   "display_name": "Python 3.9.12 ('base')",
   "language": "python",
   "name": "python3"
  },
  "language_info": {
   "codemirror_mode": {
    "name": "ipython",
    "version": 3
   },
   "file_extension": ".py",
   "mimetype": "text/x-python",
   "name": "python",
   "nbconvert_exporter": "python",
   "pygments_lexer": "ipython3",
   "version": "3.9.12"
  },
  "orig_nbformat": 4,
  "vscode": {
   "interpreter": {
    "hash": "230b3ff13fbf17182562d98b6b92d0993293f138d9d821fa36058128ba3119c0"
   }
  }
 },
 "nbformat": 4,
 "nbformat_minor": 2
}
