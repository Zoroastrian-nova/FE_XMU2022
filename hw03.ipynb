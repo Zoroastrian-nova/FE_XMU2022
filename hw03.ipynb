{
 "cells": [
  {
   "cell_type": "markdown",
   "metadata": {},
   "source": [
    "1. 某股票预计在2个月和5个月后每股分别派发1元股息，该股票目前市价等于50元，所有期限的无风险连续复利年利率均为6%，甲和乙打赌，如果6个月后该股票价格比 50 元贵，乙付给甲 1 万股的上升差价；反之甲则付给乙1万股的下跌差价。请问： \n",
    "    + （1）  这个打赌谁合算？这个赌约价值多少？  \n",
    "    + （2）  合理的约定的价格应该是多少？ \n",
    "    + （3）  3个月后，该股票价格涨到55元，无风险利率仍为6%，这时谁赢谁亏，盈亏多少？"
   ]
  },
  {
   "cell_type": "code",
   "execution_count": 25,
   "metadata": {},
   "outputs": [],
   "source": [
    "import numpy as np\n",
    "from numpy import e\n",
    "def future(S,r,t,I = 0,q= 0,X=0):\n",
    "        return ((1-X)*S-I)*e**((r-q)*t)"
   ]
  },
  {
   "cell_type": "code",
   "execution_count": 12,
   "metadata": {},
   "outputs": [
    {
     "name": "stdout",
     "output_type": "stream",
     "text": [
      "对甲有利\n",
      "5.003400179976403\n"
     ]
    }
   ],
   "source": [
    "import numpy as np\n",
    "from numpy import e\n",
    "I = np.array([1,1])@e**((1+0.06)*np.array([-2/12,-5/12]))\n",
    "k = future(50,0.06,0.5,I=I)\n",
    "f = k-50\n",
    "if f<0:\n",
    "    print('对甲有利')\n",
    "elif f==0:\n",
    "    print('公平赌约')\n",
    "else:\n",
    "    print('对乙有利')\n",
    "long_payoff = 55-k\n",
    "print(long_payoff)"
   ]
  },
  {
   "cell_type": "markdown",
   "metadata": {},
   "source": [
    "(1)首先计算红利的现值：$$I = \\Sigma_{t \\in \\{\\frac{2}{12},\\frac{5}{12}\\}} pmt e^{-r t} = 1.481$$\n",
    "计算远期价格K：$$K = (S-I)e^{r(T-t)} = 49.9965$$\n",
    "由于$K = 49.9965 < 50 = f$,所以该合约是不公平的，对甲（多方）更加有利\n",
    "\n",
    "(2)令$F = K = 49.9965$，可得合理的交割价格为49.9965\n",
    "\n",
    "(3)此时$S_{t} > F$，故此时甲盈利为50000，乙亏损50000.\n",
    "\n",
    "但由于尚未到交割期，故此时的盈亏只是账面上的，并不会产生实际的现金流"
   ]
  },
  {
   "cell_type": "markdown",
   "metadata": {},
   "source": [
    "2. 判断题（须简要说明理由）： \n",
    "    + （1）  假设黄金现货价格为 2000 美元，市场普遍认为 1 年后黄金现货价格会涨到 3000 美元，所以 1 年期黄金期货目前的价格应为 3000 美元左右。 \n",
    "    + （2）  远期（期货）价格是对未来现货价格的无偏估计。 \n",
    "    + （3）  在远期（期货）到期日，远期（期货）价格将收敛于标的资产现货价格。"
   ]
  },
  {
   "cell_type": "markdown",
   "metadata": {},
   "source": [
    "+ (1)×，如果目前的期货价格为3000美元，而现货价格为2000美元，那么就有机会通过卖空期货买入现货来进行套利\n",
    "+ (2)×，远期价格是对现在的现货价格的无偏估计（无套利的完美市场情况下）\n",
    "+ (3)√，在到期日，期货将进行交割，此时现货与期货是完全等同的，所以二者价格应当一致"
   ]
  },
  {
   "cell_type": "markdown",
   "metadata": {},
   "source": [
    "3. 假设F1和F2是基于同一种商品的两份期货合约的价格，到期日分别为t1和t2，且 t1<t2。请说明F1和F2满足什么样的关系时会存在套利机会？假设商品无贮藏成本，远期和期货无差异。"
   ]
  },
  {
   "cell_type": "markdown",
   "metadata": {},
   "source": [
    "由远期定价公式可得：$$F_{t}^{1} = S_{t} e^{r(T_{1}-t)}$$\n",
    "$$F_{t}^{2} = S_{t} e^{r(T_{2}-t)}$$\n",
    "两式作商可得：$$F_{t}^{2} = F^{1}_{t}e^{r(T_{2}-T{1})}$$\n",
    "因此，当$F_{t}^{2} > F_{t}^{1} e^{r(T_{2}-T{1})}$时，可以卖出$F_{t}^{2}$买入$F_{t}^{1}$来套利；若小于则反之。"
   ]
  },
  {
   "cell_type": "markdown",
   "metadata": {},
   "source": [
    "4. 假设S&P指数为800点，股息收益率是0。你是一个有着6%的连续复利借款利率和5%的连续复利贷款利率的套利者。远期合约的有效期为1年。 \n",
    "    + （1）  假设不存在交易费，证明如果远期价格小于 849.47，那么买现卖期套利无法盈利，以及如果远期价格大于841.02，反向买现卖期套利无法盈利。 \n",
    "    + （2）  现在假设无论做多还是做空远期合约均需在0时刻支付1美元的交易费。证明无套利界限的上限和下限现在分别成为850.53和839.97。 \n",
    "    + （3）  现在假设除了远期合约的交易费外，还存在一个2美元的买进或卖出指数的费用。假设该合约是通过指数交割来结算的，因此附加费用也是在0时刻支付。那么，新的无套利的界限是多少？ \n",
    "    + （4）  除了假设该合约是现金结算外，其他的假设与前一部分（3）相同。这意味着在0时刻和1时刻都需要为股票指数支付交易费（但不是远期合约的交易费）。那么，新的无套利的界限是多少?\n"
   ]
  },
  {
   "cell_type": "markdown",
   "metadata": {},
   "source": [
    "(1)分别以5%、6%的利率计算远期价格：$$F^{1}=S e^{r_{1}(T-t)} = 841.0168771008193$$\n",
    "$$F^{2}=S e^{r_{2}(T-t)} = 849.4692372362877$$\n",
    "远期价格此时为区间$[841.0168771008193, 849.4692372362877]$，若价格属于这个区间，则既无法通过卖空套利，也无法通过买入套利"
   ]
  },
  {
   "cell_type": "code",
   "execution_count": 31,
   "metadata": {},
   "outputs": [
    {
     "data": {
      "text/plain": [
       "[841.0168771008193, 849.4692372362877]"
      ]
     },
     "execution_count": 31,
     "metadata": {},
     "output_type": "execute_result"
    }
   ],
   "source": [
    "F= [future(800,0.05,1),future(800,0.06,1)]\n",
    "F"
   ]
  },
  {
   "cell_type": "markdown",
   "metadata": {},
   "source": [
    "(2)1美元的交易费用相当于现值为-1的现金红利，所以按照$F = (S-I) e^{r(T-t)}$计算远期价格\n",
    "\n",
    "可得远期价格区间为$[842.0681481971953, 850.5310737828331]$"
   ]
  },
  {
   "cell_type": "code",
   "execution_count": 32,
   "metadata": {},
   "outputs": [
    {
     "data": {
      "text/plain": [
       "[842.0681481971953, 850.5310737828331]"
      ]
     },
     "execution_count": 32,
     "metadata": {},
     "output_type": "execute_result"
    }
   ],
   "source": [
    "F = [future(800,0.05,1,I=-1),future(800,0.06,1,I=-1)]\n",
    "F"
   ]
  },
  {
   "cell_type": "markdown",
   "metadata": {},
   "source": [
    "(3)"
   ]
  },
  {
   "cell_type": "code",
   "execution_count": 34,
   "metadata": {},
   "outputs": [
    {
     "data": {
      "text/plain": [
       "[844.1706903899474, 852.6547468759238]"
      ]
     },
     "execution_count": 34,
     "metadata": {},
     "output_type": "execute_result"
    }
   ],
   "source": [
    "F = [future(800,0.05,1,I=-3),future(800,0.06,1,I=-3)]\n",
    "F"
   ]
  },
  {
   "cell_type": "markdown",
   "metadata": {},
   "source": [
    "(4)"
   ]
  },
  {
   "cell_type": "code",
   "execution_count": null,
   "metadata": {},
   "outputs": [],
   "source": []
  }
 ],
 "metadata": {
  "kernelspec": {
   "display_name": "Python 3.9.12 ('base')",
   "language": "python",
   "name": "python3"
  },
  "language_info": {
   "codemirror_mode": {
    "name": "ipython",
    "version": 3
   },
   "file_extension": ".py",
   "mimetype": "text/x-python",
   "name": "python",
   "nbconvert_exporter": "python",
   "pygments_lexer": "ipython3",
   "version": "3.9.12"
  },
  "orig_nbformat": 4,
  "vscode": {
   "interpreter": {
    "hash": "230b3ff13fbf17182562d98b6b92d0993293f138d9d821fa36058128ba3119c0"
   }
  }
 },
 "nbformat": 4,
 "nbformat_minor": 2
}
