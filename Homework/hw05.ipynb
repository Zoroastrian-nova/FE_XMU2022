{
 "cells": [
  {
   "cell_type": "markdown",
   "metadata": {},
   "source": [
    "1. 基金公司拥有一个β系数为 1.8、价值为 8000 万元的 A 股投资组合，1 个月期的沪深 300 指数期货价格为 2500 点。（假设β为股指期货最小方差套期保值比率的良好近似。）\n",
    "+ （1）请问该公司应如何应用沪深 300 指数期货为投资组合进行套期保值？会达到怎样的效果？\n",
    "+ （2）如果该基金公司希望将系统性风险降为原来的一半，应如何操作？\n",
    "+ （3）只通过期货交易，是否能够提高该组合的 β 系数，应如何操作？"
   ]
  },
  {
   "cell_type": "markdown",
   "metadata": {},
   "source": [
    "由题意可知， $n \\approx \\beta = 1.8$, $Q_{H} = 8*10^{7}$, $ G=2500 $,此处设股指期货乘数为300\n",
    "1. $ N = n*\\frac{Q_{H}}{Q_{G}} =1.8*\\frac{8*10^{7}}{2500*300} = 192$ \n",
    "\n",
    "    如果该公司卖空192份股指期货合约，此时套保组合的方差最小化，系统性风险降为0\n",
    "2. 由于此时套保目标为 $\\beta^{*} = \\frac{\\beta}{2} = 0.9$，所以 $n= \\beta -\\beta^{*} = 0.9 $\n",
    "\n",
    "    因此可得套保数量N:$N = n*\\frac{Q_{H}}{Q_{G}} =0.9*\\frac{8*10^{7}}{2500*300} = 96 $\n",
    "\n",
    "    此时应该卖空92份股指期货合约\n",
    "\n",
    "3. 如果该公司不是选择做空股指期货来套期保值，而是选择做多股指期货来进行投机，那么就可以增大投资组合的$\\beta$"
   ]
  },
  {
   "cell_type": "code",
   "execution_count": 1,
   "metadata": {},
   "outputs": [
    {
     "name": "stdout",
     "output_type": "stream",
     "text": [
      "最小方差套保数量：192.0\n",
      "β为0.9的套保数量：96.0\n"
     ]
    }
   ],
   "source": [
    "N = 1.8*8e7/(2500*300)\n",
    "print(f'最小方差套保数量：{N}')\n",
    "N_1 = 0.9*8e7/(2500*300)\n",
    "print(f'β为0.9的套保数量：{N_1}')"
   ]
  },
  {
   "cell_type": "markdown",
   "metadata": {},
   "source": [
    "2. 瑞士和美国四个月连续复利率分别为 2%和 8%，瑞士法郎的现货汇率为0.6700 美元，四个月期的瑞士法郎期货价格为 0.6800 美元，请问有无套利机会？如果有，请写出具体套利操作并计算套利收益。"
   ]
  },
  {
   "cell_type": "markdown",
   "metadata": {},
   "source": [
    "由题意得，汇率现价为 $S = 0.67$，美元利率（无风险利率）为 $r = 8%$，瑞郎利率（持有成本）为 $q = 2\\%$，市场期货价格为 $f = 0.68$\n",
    "\n",
    "由远期定价公式 $F =S e^{(r-q)(T-t)}$可得，无套利汇率应为：$F =0.67*e^{(0.08-0.02)*\\frac{1}{3}} = 0.6835348978179264 $\n",
    "\n",
    "因为 $F>f = 0.68$，远期价格被低估，因此应该借入N美元，买入 $\\frac{N}{0.68}$ 份4个月期瑞郎期货，在到期日平仓期货换回美元，可以获利 $0.003441879630734439*N $ 美元"
   ]
  },
  {
   "cell_type": "code",
   "execution_count": 12,
   "metadata": {},
   "outputs": [
    {
     "name": "stdout",
     "output_type": "stream",
     "text": [
      "无套利远期汇率：0.6835348978179264\n",
      "套利获益现值：0.003441879630734439\n"
     ]
    }
   ],
   "source": [
    "from math import e\n",
    "F = 0.67*e**((0.08-0.02)/3)\n",
    "print(f'无套利远期汇率：{F}')\n",
    "payoff = (F-0.68)*e**(-0.08/3)\n",
    "print(f'套利获益现值：{payoff}')"
   ]
  },
  {
   "cell_type": "markdown",
   "metadata": {},
   "source": [
    "3. 假设今天是 2015 年 7 月 30 日，在 2015 年 9 月到期的某国库券期货所对应的最便宜的可交割债券的息票率为 13%，预计交割时间为 2015 年 9 月 30 日。\n",
    "\n",
    "    债券券息的支付时间为每年的 2 月 4 日与 8 月 4 日。期限结构为水平，每半年复利一次的利率为每年 12%。这一债券的转换因子为 1.5，当前报价为 110 美元。计算这一期货合约的报价"
   ]
  },
  {
   "cell_type": "markdown",
   "metadata": {},
   "source": [
    "1. 首先计算可交割券的现货应计利息：$$应计利息 = 0.5*100*13\\%* \\frac{Jul 30 -Feb 4 }{Aug 4 - Feb 4} = 0.5*100*13\\%* \\frac{28+31+30+31+30+30-4}{28+31+30+31+30+31} = 6.217391304347826 $$\n",
    "\n",
    "2. $$ 可交割券现货全价= 可交割券现货净价(报价) + 现货应计利息 = 110+6.217391304347826 = 116.32044198895028 $$\n",
    "\n",
    "3. 由远期定价公式 $F = S e^{r(T-t)}$可得，\n",
    "\n",
    "    $ 可交割券期货全价 =可交割券现货全价*e^{r(T-t)} \n",
    "    = 116.32044198895028 * e^{0.11653781624795165 * \\frac{62}{365}} =118.6460010096505 $ ,\n",
    "\n",
    "    其中$r = 2 *ln(1+\\frac{12\\%}{2}) = 0.11653781624795165$,\n",
    "    \n",
    "    $T-t = Sep 30-Jul 30 = 31+30 = 62$\n",
    "\n",
    "4. 因为$期货报价*转换因子 = 可交割券期货净价 = 可交割券期货全价 - 期货应计利息$，\n",
    "\n",
    "    所以$ 期货报价 = \\frac{可交割券期货全价 - 期货应计利息}{转换因子} = \\frac{1}{1.5}*(118.6460010096505-2.0135869565217392) = 77.75494270208584 $,\n",
    "\n",
    "    其中$ 期货应计利息 = 0.5* 100 * 13\\% * \\frac{Sep 30 -Aug 4 +2}{Feb 4 -Aug 4} = 0.5* 100 * 13\\% * \\frac{31+31-4+2}{31+30+31+30+31+31} = 2.0135869565217392 $\n",
    "\n",
    "所以，期货报价应为77.75494270208584"
   ]
  },
  {
   "cell_type": "code",
   "execution_count": 32,
   "metadata": {},
   "outputs": [
    {
     "name": "stdout",
     "output_type": "stream",
     "text": [
      "应计利息：6.320441988950276\n",
      "现货全价：116.32044198895028\n",
      "期货全价：118.6460010096505\n",
      "应计利息：2.0135869565217392\n",
      "期货合约净价77.75494270208584\n"
     ]
    }
   ],
   "source": [
    "from datetime import datetime\n",
    "from math import log,e\n",
    "accrued_interest = 0.5*100*0.13*((datetime(2015,7,30)-datetime(2015,2,4)).days)/(datetime(2015,8,4)-datetime(2015,2,4)).days\n",
    "print(f'应计利息：{accrued_interest}')\n",
    "present_full_price = accrued_interest+110\n",
    "print(f'现货全价：{present_full_price}')\n",
    "r = 2*log(1+0.12/2)\n",
    "F = present_full_price*e**(r*(62/365))\n",
    "print(f'期货全价：{F}')\n",
    "future_accrued_interest = 0.5*100*0.13*((datetime(2015,9,30)-datetime(2015,8,4)).days)/(datetime(2016,2,4)-datetime(2015,8,4)).days\n",
    "print(f'应计利息：{future_accrued_interest}')\n",
    "future_net_price = (F-future_accrued_interest)/1.5\n",
    "print(f'期货合约净价{future_net_price}')"
   ]
  },
  {
   "cell_type": "markdown",
   "metadata": {},
   "source": [
    "4. 某个固定收益经理管理一支大型养老基金，该基金的资产和负债的现值分别为 40 亿元和 50 亿元，资产和负债的久期分别为 7.24 和 5.63。当前这只养老基金处于赤字状态（资产<负债），该经理希望规避该缺口增大的风险。\n",
    "\n",
    "    流动性最好的利率期货合约当前价值为 68 325 元，久期为 2.16。请问：在收益率曲线向上平移 25 个基点与向下平移 25 个基点这两种情况下，该经理是否应该利用期货合约来规避资金缺口增大的风险？如果需要，应该如何操作（需回答清楚期货的头寸方向和规模）"
   ]
  },
  {
   "cell_type": "markdown",
   "metadata": {},
   "source": [
    "$$现货久期D_{H} = \\frac{D_{asset}*Asset+D_{liability}*Liability}{Asset+Liability} = \\frac{7.24*4*10^{9}-5.63*5*10^{9}}{4*10^{9}-5*10^{9}} = -0.81 $$\n",
    "\n",
    "$$最优套保数量N = \\frac{D_{H}*V_{H}}{D_{G}*V_{G}} = \\frac{-0.81*-10^{9}}{2.16*68325} = 5488.474204171241 \\approx 5489$$\n",
    "\n",
    "由此可得，为了规避收益率上升的风险，应该买入5489份利率期货合约"
   ]
  },
  {
   "cell_type": "code",
   "execution_count": 40,
   "metadata": {},
   "outputs": [
    {
     "name": "stdout",
     "output_type": "stream",
     "text": [
      "最优套保数量：5488.474204171241\n"
     ]
    }
   ],
   "source": [
    "D_H = (4e9*7.24-5e9*5.63)/(4e9-5e9)\n",
    "D_G = 2.16\n",
    "N = (4e9*7.24-5e9*5.63)/(68325*D_G)\n",
    "print(f'最优套保数量：{N}')"
   ]
  }
 ],
 "metadata": {
  "kernelspec": {
   "display_name": "Python 3.9.12 ('base')",
   "language": "python",
   "name": "python3"
  },
  "language_info": {
   "codemirror_mode": {
    "name": "ipython",
    "version": 3
   },
   "file_extension": ".py",
   "mimetype": "text/x-python",
   "name": "python",
   "nbconvert_exporter": "python",
   "pygments_lexer": "ipython3",
   "version": "3.9.12"
  },
  "orig_nbformat": 4,
  "vscode": {
   "interpreter": {
    "hash": "230b3ff13fbf17182562d98b6b92d0993293f138d9d821fa36058128ba3119c0"
   }
  }
 },
 "nbformat": 4,
 "nbformat_minor": 2
}
