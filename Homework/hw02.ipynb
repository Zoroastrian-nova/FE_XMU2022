{
 "cells": [
  {
   "cell_type": "markdown",
   "metadata": {},
   "source": [
    "#### 不定项选择"
   ]
  },
  {
   "cell_type": "markdown",
   "metadata": {},
   "source": [
    "1. 某投资者期货账户可用保证金 2000 万元， 某日以 4634 点价格开仓买进IF1803 合约 60 手， 同一天， 该客户以 4700 点卖出平仓 20 手 IF1803， 当日结算价 4663 点。 假设交易保证金率为 15%， 则以下说法正确的是（ ）。（IF表示沪深 300 期货， 乘数为 300）\n",
    "+ A. 当日平仓获利 39.6 万元\n",
    "+ B. 当日保证金占用 839.34 万元\n",
    "+ C. 当日账户权益 2039.6 万元\n",
    "+ D. 可用资金余额为 1200.26 万元"
   ]
  },
  {
   "cell_type": "code",
   "execution_count": 4,
   "metadata": {},
   "outputs": [
    {
     "name": "stdout",
     "output_type": "stream",
     "text": [
      "平仓获利 396000\n",
      "保证金占用 8393400.0\n",
      "账户权益 20744000.0\n",
      "可用资金余额 12350600.0\n"
     ]
    }
   ],
   "source": [
    "import numpy as np\n",
    "ini_margin,multip,margin_rate = 2e7,300,0.15\n",
    "trade = np.array([60,40])\n",
    "price = np.array([4634,4663])\n",
    "position = trade*price*multip\n",
    "main_margin = position * margin_rate\n",
    "\n",
    "\n",
    "offset = np.array([-20,20])\n",
    "offset_price = np.array([4634,4700])\n",
    "close = multip*np.dot(offset,offset_price)\n",
    "\n",
    "payoff = np.array([-40,40])@price*multip\n",
    "account_surp = ini_margin+ close + payoff\n",
    "available = account_surp - main_margin[-1]\n",
    "\n",
    "print(f'平仓获利 {close}')\n",
    "print(f'保证金占用 {main_margin[-1]}')\n",
    "print(f'账户权益 {account_surp}')\n",
    "print(f'可用资金余额 {available}')"
   ]
  },
  {
   "cell_type": "markdown",
   "metadata": {},
   "source": [
    "选项： A B "
   ]
  },
  {
   "cell_type": "markdown",
   "metadata": {},
   "source": [
    "2. 假设市场中原有 100 手未平仓合约， 紧接着市场交易出现如下变化： 在交易时， 交易者甲买进开仓 20 手股指期货 9 月合约的同时， 交易者乙买进开仓 50手股指期货 9 月份合约， 交易者丙卖出平仓 60 手股指期货 9 月份合约， 交易者丁卖出 10 手股指期货 9 月份合约， 甲乙丙丁三人恰好相互成交。 此刻该期货合约（ ）。\n",
    "+ A. 未平仓合约数为 170 手\n",
    "+ B. 未平仓合约数增加 10 手\n",
    "+ C. 成交量增加 140 手\n",
    "+ D. 成交量增加 70 手"
   ]
  },
  {
   "cell_type": "code",
   "execution_count": 2,
   "metadata": {},
   "outputs": [
    {
     "name": "stdout",
     "output_type": "stream",
     "text": [
      "未平仓合约数 110.0\n",
      "成交量 20\n"
     ]
    }
   ],
   "source": [
    "import numpy as np\n",
    "long_position = np.array([20,50,-60,10])\n",
    "open_interest = sum(long_position)*0.5+100\n",
    "print(f'未平仓合约数 {open_interest}')\n",
    "print(f'成交量 {sum(long_position)}')"
   ]
  },
  {
   "cell_type": "markdown",
   "metadata": {},
   "source": [
    "选项：B D"
   ]
  },
  {
   "cell_type": "markdown",
   "metadata": {},
   "source": [
    "#### 判断题"
   ]
  },
  {
   "cell_type": "markdown",
   "metadata": {},
   "source": [
    "1. 股指期货可以用来降低股票组合的非系统性风险。\n",
    "    + ×，将股指期货假如资产组合，降低的是股票组合的系统性风险β\n",
    "\n",
    "2. 一份期货合约在交易所交易时， 会使得未平仓合约总数增加一份。\n",
    "    + ×，若该期货合约是用于平仓的合约，那么未平仓合约数将减少一份\n",
    "\n",
    "3. 股指期货交割是促使股指期货价格和股指现货价格趋向一致的制度保证， 使股指期货市场真正发挥价格晴雨表的作用。\n",
    "    + √，交割期的期货与现货是完全等同的，因此二者的价格一定相等，这样就确保了期货价格在交割期收敛于现货价格\n",
    "\n",
    "4. 股指期货投资者通过套期保值，将全部市场价格风险转移给股指期货套利者。\n",
    "    + ×，套利者并不承担市场风险，承担市场风险的是投机者\n",
    "    "
   ]
  },
  {
   "cell_type": "markdown",
   "metadata": {},
   "source": [
    "#### 计算题\n"
   ]
  },
  {
   "cell_type": "markdown",
   "metadata": {},
   "source": [
    "1. 投资人甲签订了一份远期外汇合约， 投资人乙签订外汇期货合约， 两份合约均规定在 3 个月后以 14 万美元买入 10 万欧元。 当前欧元汇率为 1.4000。 如果在合约期的前两个月欧元巨幅贬值， 然后在第三个月回升， 最终以 1.4300 的价格收盘， 两者的财务状况有何区别？ 如果在合约期的前两个月欧元升值， 然后在第三个月暴跌， 最终以 1.3300 的价格收盘， 两者的财务状况又会有何区别？"
   ]
  },
  {
   "cell_type": "markdown",
   "metadata": {},
   "source": [
    "+ 欧元先贬值后升值：由于期货合约每日盯市结算，那么投资人乙在前两个月欧元巨幅贬值时可能需要追加保证金，相比于远期外汇合约，这样会造成额外的资金占用，若不能补足追加保证金，则可能提前平仓，造成亏损。\n",
    "+ 欧元先升值后贬值： 由于期货合约每日盯市结算，投资人乙的保证金账户可能会出现大量盈余，如果不选择提出保证金，那么到期日二者财务状况差距不大；如果选择提取保证金用作其他投资且不再追加保证金，那么在欧元贬值过程中可能会提前平仓，从而减少亏损。"
   ]
  },
  {
   "cell_type": "markdown",
   "metadata": {},
   "source": [
    "2. 假设当前欧元/美元期货的价格是 1.3600（即 1.3600 美元=1 欧元）， 合约大小为 225000 欧元， 每张合约需要缴纳的初始保证金为 2475 美元， 维持保证金为2250 美元。 某交易者以 1.3600 的价格买入 1 张欧元/美元期货合约， 并在 3 天后卖出。 3 天的期货结算价变动情况如下表所示："
   ]
  },
  {
   "cell_type": "code",
   "execution_count": 3,
   "metadata": {},
   "outputs": [
    {
     "data": {
      "text/html": [
       "<div>\n",
       "<style scoped>\n",
       "    .dataframe tbody tr th:only-of-type {\n",
       "        vertical-align: middle;\n",
       "    }\n",
       "\n",
       "    .dataframe tbody tr th {\n",
       "        vertical-align: top;\n",
       "    }\n",
       "\n",
       "    .dataframe thead th {\n",
       "        text-align: right;\n",
       "    }\n",
       "</style>\n",
       "<table border=\"1\" class=\"dataframe\">\n",
       "  <thead>\n",
       "    <tr style=\"text-align: right;\">\n",
       "      <th></th>\n",
       "      <th>Day</th>\n",
       "      <th>Price</th>\n",
       "    </tr>\n",
       "  </thead>\n",
       "  <tbody>\n",
       "    <tr>\n",
       "      <th>0</th>\n",
       "      <td>1</td>\n",
       "      <td>1.3600</td>\n",
       "    </tr>\n",
       "    <tr>\n",
       "      <th>1</th>\n",
       "      <td>2</td>\n",
       "      <td>1.3580</td>\n",
       "    </tr>\n",
       "    <tr>\n",
       "      <th>2</th>\n",
       "      <td>3</td>\n",
       "      <td>1.3615</td>\n",
       "    </tr>\n",
       "  </tbody>\n",
       "</table>\n",
       "</div>"
      ],
      "text/plain": [
       "   Day   Price\n",
       "0    1  1.3600\n",
       "1    2  1.3580\n",
       "2    3  1.3615"
      ]
     },
     "execution_count": 3,
     "metadata": {},
     "output_type": "execute_result"
    }
   ],
   "source": [
    "import pandas as pd\n",
    "table = pd.DataFrame(data={'Day':[1,2,3],'Price':[1.3600,1.3580,1.3615]})\n",
    "table"
   ]
  },
  {
   "cell_type": "markdown",
   "metadata": {},
   "source": [
    "请问交易者共投入的资金是多少?最终的盈亏情况如何？"
   ]
  },
  {
   "cell_type": "code",
   "execution_count": 13,
   "metadata": {},
   "outputs": [
    {
     "name": "stdout",
     "output_type": "stream",
     "text": [
      "总投入资金 2475\n",
      "最终盈亏 337.4999999999629\n"
     ]
    }
   ],
   "source": [
    "import numpy as np\n",
    "size,ini_margin,main_margin = 225000,2475,2250\n",
    "price = np.array([1.3600,1.3580,1.3615])\n",
    "position = size*price\n",
    "payoff = np.array(table.diff()['Price'].fillna(0))*size\n",
    "total_payoff = sum(payoff)\n",
    "print(f'总投入资金 {ini_margin}')\n",
    "print(f'最终盈亏 {total_payoff}')"
   ]
  }
 ],
 "metadata": {
  "kernelspec": {
   "display_name": "Python 3.9.12 ('base')",
   "language": "python",
   "name": "python3"
  },
  "language_info": {
   "codemirror_mode": {
    "name": "ipython",
    "version": 3
   },
   "file_extension": ".py",
   "mimetype": "text/x-python",
   "name": "python",
   "nbconvert_exporter": "python",
   "pygments_lexer": "ipython3",
   "version": "3.9.12"
  },
  "orig_nbformat": 4,
  "vscode": {
   "interpreter": {
    "hash": "230b3ff13fbf17182562d98b6b92d0993293f138d9d821fa36058128ba3119c0"
   }
  }
 },
 "nbformat": 4,
 "nbformat_minor": 2
}
